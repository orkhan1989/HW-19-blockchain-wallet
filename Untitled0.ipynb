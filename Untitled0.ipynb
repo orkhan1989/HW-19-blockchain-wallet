{
  "nbformat": 4,
  "nbformat_minor": 0,
  "metadata": {
    "colab": {
      "name": "Untitled0.ipynb",
      "provenance": [],
      "collapsed_sections": [],
      "authorship_tag": "ABX9TyMbcD1tT8GFn6YqOpTCeBda",
      "include_colab_link": true
    },
    "kernelspec": {
      "name": "python3",
      "display_name": "Python 3"
    },
    "language_info": {
      "name": "python"
    }
  },
  "cells": [
    {
      "cell_type": "markdown",
      "metadata": {
        "id": "view-in-github",
        "colab_type": "text"
      },
      "source": [
        "<a href=\"https://colab.research.google.com/github/orkhan1989/HW-19-blockchain-wallet/blob/main/Untitled0.ipynb\" target=\"_parent\"><img src=\"https://colab.research.google.com/assets/colab-badge.svg\" alt=\"Open In Colab\"/></a>"
      ]
    },
    {
      "cell_type": "code",
      "source": [
        "!pip install bip44"
      ],
      "metadata": {
        "id": "6Aj1kgtiHUEn"
      },
      "execution_count": null,
      "outputs": []
    },
    {
      "cell_type": "code",
      "source": [
        "!pip install python-dotenv"
      ],
      "metadata": {
        "id": "DNwe63O5HNUl"
      },
      "execution_count": null,
      "outputs": []
    },
    {
      "cell_type": "code",
      "source": [
        "# Imports\n",
        "import os\n",
        "import requests\n",
        "from dotenv import load_dotenv\n",
        "load_dotenv()\n",
        "from bip44 import Wallet"
      ],
      "metadata": {
        "id": "NGWumVN7GdSh"
      },
      "execution_count": 22,
      "outputs": []
    },
    {
      "cell_type": "code",
      "source": [
        "def generate_account():\n",
        "# Fetch mnemonic from environment variable.\n",
        "    mnemonic = os.getenv(\"MNEMONIC\")"
      ],
      "metadata": {
        "id": "hkHBOTuaMy1A"
      },
      "execution_count": 19,
      "outputs": []
    },
    {
      "cell_type": "code",
      "source": [
        "# Create Wallet Object\n",
        "wallet = Wallet('mnemonic')"
      ],
      "metadata": {
        "id": "2uQAB84VOcOY"
      },
      "execution_count": 28,
      "outputs": []
    },
    {
      "cell_type": "code",
      "source": [
        "# Derive Ethereum Private Key\n",
        "private, public = wallet.derive_account(\"eth\")"
      ],
      "metadata": {
        "id": "yFErrfMiO8JC"
      },
      "execution_count": 29,
      "outputs": []
    },
    {
      "cell_type": "code",
      "source": [
        "# Convert private key into an Ethereum account\n",
        "account = Account.privateKeyToAccount(private)"
      ],
      "metadata": {
        "id": "DTLqzISKPBm_"
      },
      "execution_count": null,
      "outputs": []
    }
  ]
}